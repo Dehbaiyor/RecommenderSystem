{
 "cells": [
  {
   "cell_type": "markdown",
   "metadata": {
    "colab_type": "text",
    "id": "n7hd5d-gbKDd"
   },
   "source": [
    "# Imports and Data Processing"
   ]
  },
  {
   "cell_type": "code",
   "execution_count": 1,
   "metadata": {
    "ExecuteTime": {
     "end_time": "2020-01-08T23:31:25.167554Z",
     "start_time": "2020-01-08T23:29:24.167897Z"
    },
    "colab": {
     "base_uri": "https://localhost:8080/",
     "height": 52
    },
    "colab_type": "code",
    "id": "1v07yeYZXbbm",
    "outputId": "18e50d58-ec5e-4cf1-8958-ab503738c7be"
   },
   "outputs": [
    {
     "name": "stdout",
     "output_type": "stream",
     "text": [
      "TensorFlow 1.x selected.\n"
     ]
    },
    {
     "name": "stderr",
     "output_type": "stream",
     "text": [
      "Using TensorFlow backend.\n"
     ]
    }
   ],
   "source": [
    "%tensorflow_version 1.x\n",
    "from numpy import array\n",
    "from keras.preprocessing.text import one_hot\n",
    "from keras.preprocessing.sequence import pad_sequences\n",
    "from keras.models import Sequential\n",
    "from keras.layers.core import Activation, Dropout, Dense\n",
    "from keras.layers import LSTM\n",
    "from keras.models import Model\n",
    "from keras.layers.embeddings import Embedding\n",
    "from sklearn.model_selection import train_test_split\n",
    "from keras.preprocessing.text import Tokenizer\n",
    "from keras.layers import Input\n",
    "from keras.layers.merge import Concatenate\n",
    "\n",
    "import pandas as pd\n",
    "import numpy as np\n",
    "import re\n",
    "import matplotlib.pyplot as plt"
   ]
  },
  {
   "cell_type": "code",
   "execution_count": 2,
   "metadata": {
    "colab": {
     "base_uri": "https://localhost:8080/",
     "height": 125
    },
    "colab_type": "code",
    "id": "4ACeb9mIcG5z",
    "outputId": "6b534d60-cfd2-4488-b674-5a3e74e22006"
   },
   "outputs": [
    {
     "name": "stdout",
     "output_type": "stream",
     "text": [
      "Go to this URL in a browser: https://accounts.google.com/o/oauth2/auth?client_id=947318989803-6bn6qk8qdgf4n4g3pfee6491hc0brc4i.apps.googleusercontent.com&redirect_uri=urn%3aietf%3awg%3aoauth%3a2.0%3aoob&response_type=code&scope=email%20https%3a%2f%2fwww.googleapis.com%2fauth%2fdocs.test%20https%3a%2f%2fwww.googleapis.com%2fauth%2fdrive%20https%3a%2f%2fwww.googleapis.com%2fauth%2fdrive.photos.readonly%20https%3a%2f%2fwww.googleapis.com%2fauth%2fpeopleapi.readonly\n",
      "\n",
      "Enter your authorization code:\n",
      "··········\n",
      "Mounted at /content/drive\n"
     ]
    }
   ],
   "source": [
    "from google.colab import drive\n",
    "drive.mount('/content/drive')"
   ]
  },
  {
   "cell_type": "code",
   "execution_count": 0,
   "metadata": {
    "ExecuteTime": {
     "end_time": "2020-01-08T23:31:27.466811Z",
     "start_time": "2020-01-08T23:31:25.367677Z"
    },
    "colab": {},
    "colab_type": "code",
    "id": "4dHmFzCQXbc_"
   },
   "outputs": [],
   "source": [
    "data = pd.read_csv('/content/drive/My Drive/moral.csv')"
   ]
  },
  {
   "cell_type": "code",
   "execution_count": 4,
   "metadata": {
    "colab": {
     "base_uri": "https://localhost:8080/",
     "height": 776
    },
    "colab_type": "code",
    "id": "K6BjvWKElvG9",
    "outputId": "87c106e8-c63e-4047-cc61-0b6ef1bdbccd"
   },
   "outputs": [
    {
     "data": {
      "text/html": [
       "<div>\n",
       "<style scoped>\n",
       "    .dataframe tbody tr th:only-of-type {\n",
       "        vertical-align: middle;\n",
       "    }\n",
       "\n",
       "    .dataframe tbody tr th {\n",
       "        vertical-align: top;\n",
       "    }\n",
       "\n",
       "    .dataframe thead th {\n",
       "        text-align: right;\n",
       "    }\n",
       "</style>\n",
       "<table border=\"1\" class=\"dataframe\">\n",
       "  <thead>\n",
       "    <tr style=\"text-align: right;\">\n",
       "      <th></th>\n",
       "      <th>text</th>\n",
       "      <th>HarmVirtue</th>\n",
       "      <th>HarmVice</th>\n",
       "      <th>FairnessVirtue</th>\n",
       "      <th>FairnessVice</th>\n",
       "      <th>IngroupVirtue</th>\n",
       "      <th>IngroupVice</th>\n",
       "      <th>AuthorityVirtue</th>\n",
       "      <th>AuthorityVice</th>\n",
       "      <th>PurityVirtue</th>\n",
       "      <th>PurityVice</th>\n",
       "      <th>bias_count</th>\n",
       "      <th>Offensive</th>\n",
       "      <th>MoralityGeneral_title</th>\n",
       "    </tr>\n",
       "  </thead>\n",
       "  <tbody>\n",
       "    <tr>\n",
       "      <th>0</th>\n",
       "      <td>“This is madness,” Arnold Roth told the Algeme...</td>\n",
       "      <td>False</td>\n",
       "      <td>True</td>\n",
       "      <td>False</td>\n",
       "      <td>False</td>\n",
       "      <td>True</td>\n",
       "      <td>True</td>\n",
       "      <td>False</td>\n",
       "      <td>False</td>\n",
       "      <td>False</td>\n",
       "      <td>False</td>\n",
       "      <td>False</td>\n",
       "      <td>True</td>\n",
       "      <td>False</td>\n",
       "    </tr>\n",
       "    <tr>\n",
       "      <th>1</th>\n",
       "      <td>A victim of the anti-police shooting in Baton ...</td>\n",
       "      <td>True</td>\n",
       "      <td>True</td>\n",
       "      <td>False</td>\n",
       "      <td>False</td>\n",
       "      <td>True</td>\n",
       "      <td>False</td>\n",
       "      <td>True</td>\n",
       "      <td>True</td>\n",
       "      <td>False</td>\n",
       "      <td>False</td>\n",
       "      <td>True</td>\n",
       "      <td>True</td>\n",
       "      <td>False</td>\n",
       "    </tr>\n",
       "    <tr>\n",
       "      <th>2</th>\n",
       "      <td>Natural disasters like Hurricane Irma prompt p...</td>\n",
       "      <td>False</td>\n",
       "      <td>True</td>\n",
       "      <td>False</td>\n",
       "      <td>False</td>\n",
       "      <td>False</td>\n",
       "      <td>True</td>\n",
       "      <td>True</td>\n",
       "      <td>False</td>\n",
       "      <td>True</td>\n",
       "      <td>False</td>\n",
       "      <td>True</td>\n",
       "      <td>True</td>\n",
       "      <td>False</td>\n",
       "    </tr>\n",
       "    <tr>\n",
       "      <th>3</th>\n",
       "      <td>New York Times movie critic Andy Webster made ...</td>\n",
       "      <td>False</td>\n",
       "      <td>False</td>\n",
       "      <td>False</td>\n",
       "      <td>False</td>\n",
       "      <td>False</td>\n",
       "      <td>False</td>\n",
       "      <td>False</td>\n",
       "      <td>False</td>\n",
       "      <td>False</td>\n",
       "      <td>False</td>\n",
       "      <td>True</td>\n",
       "      <td>False</td>\n",
       "      <td>False</td>\n",
       "    </tr>\n",
       "    <tr>\n",
       "      <th>4</th>\n",
       "      <td>Former Department of Homeland Security (DHS) S...</td>\n",
       "      <td>True</td>\n",
       "      <td>True</td>\n",
       "      <td>False</td>\n",
       "      <td>False</td>\n",
       "      <td>True</td>\n",
       "      <td>False</td>\n",
       "      <td>True</td>\n",
       "      <td>False</td>\n",
       "      <td>False</td>\n",
       "      <td>False</td>\n",
       "      <td>False</td>\n",
       "      <td>True</td>\n",
       "      <td>False</td>\n",
       "    </tr>\n",
       "    <tr>\n",
       "      <th>...</th>\n",
       "      <td>...</td>\n",
       "      <td>...</td>\n",
       "      <td>...</td>\n",
       "      <td>...</td>\n",
       "      <td>...</td>\n",
       "      <td>...</td>\n",
       "      <td>...</td>\n",
       "      <td>...</td>\n",
       "      <td>...</td>\n",
       "      <td>...</td>\n",
       "      <td>...</td>\n",
       "      <td>...</td>\n",
       "      <td>...</td>\n",
       "      <td>...</td>\n",
       "    </tr>\n",
       "    <tr>\n",
       "      <th>2852</th>\n",
       "      <td>It's the little things that matter in campaign...</td>\n",
       "      <td>False</td>\n",
       "      <td>False</td>\n",
       "      <td>False</td>\n",
       "      <td>False</td>\n",
       "      <td>True</td>\n",
       "      <td>False</td>\n",
       "      <td>False</td>\n",
       "      <td>False</td>\n",
       "      <td>False</td>\n",
       "      <td>False</td>\n",
       "      <td>False</td>\n",
       "      <td>False</td>\n",
       "      <td>False</td>\n",
       "    </tr>\n",
       "    <tr>\n",
       "      <th>2853</th>\n",
       "      <td>Moments ago, against the backdrop of congress ...</td>\n",
       "      <td>True</td>\n",
       "      <td>True</td>\n",
       "      <td>False</td>\n",
       "      <td>False</td>\n",
       "      <td>True</td>\n",
       "      <td>True</td>\n",
       "      <td>True</td>\n",
       "      <td>False</td>\n",
       "      <td>False</td>\n",
       "      <td>True</td>\n",
       "      <td>True</td>\n",
       "      <td>True</td>\n",
       "      <td>False</td>\n",
       "    </tr>\n",
       "    <tr>\n",
       "      <th>2854</th>\n",
       "      <td>Earlier today President Trump joined with Labo...</td>\n",
       "      <td>False</td>\n",
       "      <td>False</td>\n",
       "      <td>False</td>\n",
       "      <td>False</td>\n",
       "      <td>True</td>\n",
       "      <td>False</td>\n",
       "      <td>True</td>\n",
       "      <td>False</td>\n",
       "      <td>False</td>\n",
       "      <td>False</td>\n",
       "      <td>True</td>\n",
       "      <td>False</td>\n",
       "      <td>False</td>\n",
       "    </tr>\n",
       "    <tr>\n",
       "      <th>2855</th>\n",
       "      <td>President Donald Trump's \"fire and fury\" ultim...</td>\n",
       "      <td>False</td>\n",
       "      <td>False</td>\n",
       "      <td>False</td>\n",
       "      <td>False</td>\n",
       "      <td>False</td>\n",
       "      <td>True</td>\n",
       "      <td>False</td>\n",
       "      <td>False</td>\n",
       "      <td>False</td>\n",
       "      <td>False</td>\n",
       "      <td>False</td>\n",
       "      <td>False</td>\n",
       "      <td>False</td>\n",
       "    </tr>\n",
       "    <tr>\n",
       "      <th>2856</th>\n",
       "      <td>North Korea has threatened to turn the US into...</td>\n",
       "      <td>False</td>\n",
       "      <td>True</td>\n",
       "      <td>False</td>\n",
       "      <td>False</td>\n",
       "      <td>False</td>\n",
       "      <td>False</td>\n",
       "      <td>False</td>\n",
       "      <td>False</td>\n",
       "      <td>False</td>\n",
       "      <td>False</td>\n",
       "      <td>True</td>\n",
       "      <td>False</td>\n",
       "      <td>False</td>\n",
       "    </tr>\n",
       "  </tbody>\n",
       "</table>\n",
       "<p>2857 rows × 14 columns</p>\n",
       "</div>"
      ],
      "text/plain": [
       "                                                   text  ...   MoralityGeneral_title\n",
       "0     “This is madness,” Arnold Roth told the Algeme...  ...                   False\n",
       "1     A victim of the anti-police shooting in Baton ...  ...                   False\n",
       "2     Natural disasters like Hurricane Irma prompt p...  ...                   False\n",
       "3     New York Times movie critic Andy Webster made ...  ...                   False\n",
       "4     Former Department of Homeland Security (DHS) S...  ...                   False\n",
       "...                                                 ...  ...                     ...\n",
       "2852  It's the little things that matter in campaign...  ...                   False\n",
       "2853  Moments ago, against the backdrop of congress ...  ...                   False\n",
       "2854  Earlier today President Trump joined with Labo...  ...                   False\n",
       "2855  President Donald Trump's \"fire and fury\" ultim...  ...                   False\n",
       "2856  North Korea has threatened to turn the US into...  ...                   False\n",
       "\n",
       "[2857 rows x 14 columns]"
      ]
     },
     "execution_count": 4,
     "metadata": {
      "tags": []
     },
     "output_type": "execute_result"
    }
   ],
   "source": [
    "data[' bias_count'] = (data[' bias_count'] > 0.07)\n",
    "data[[\" HarmVirtue\", \" HarmVice\",\" FairnessVirtue\",\n",
    "                 \" FairnessVice\", \" IngroupVirtue\",\n",
    "                 \" IngroupVice\", \" AuthorityVirtue\",\n",
    "                 \" AuthorityVice\", \" PurityVirtue\", \" PurityVice\", \"Offensive\",\n",
    "      \" MoralityGeneral_title\"]] = data[[\" HarmVirtue\", \" HarmVice\",\" FairnessVirtue\",\n",
    "                 \" FairnessVice\", \" IngroupVirtue\",\n",
    "                 \" IngroupVice\", \" AuthorityVirtue\",\n",
    "                 \" AuthorityVice\", \" PurityVirtue\", \" PurityVice\", \"Offensive\",\n",
    "      \" MoralityGeneral_title\"]] > 0\n",
    "\n",
    "data"
   ]
  },
  {
   "cell_type": "code",
   "execution_count": 5,
   "metadata": {
    "colab": {
     "base_uri": "https://localhost:8080/",
     "height": 87
    },
    "colab_type": "code",
    "id": "QNjSDaqJDVo_",
    "outputId": "74116045-eebd-4d18-cab7-cc31f8343fea"
   },
   "outputs": [
    {
     "name": "stdout",
     "output_type": "stream",
     "text": [
      "[nltk_data] Downloading package punkt to /root/nltk_data...\n",
      "[nltk_data]   Unzipping tokenizers/punkt.zip.\n",
      "[nltk_data] Downloading package stopwords to /root/nltk_data...\n",
      "[nltk_data]   Unzipping corpora/stopwords.zip.\n"
     ]
    }
   ],
   "source": [
    "import nltk\n",
    "from nltk.corpus import stopwords\n",
    "from nltk.tokenize import word_tokenize \n",
    "nltk.download('punkt')\n",
    "nltk.download('stopwords')\n",
    "\n",
    "stop_words = set(stopwords.words('english')) "
   ]
  },
  {
   "cell_type": "code",
   "execution_count": 0,
   "metadata": {
    "colab": {},
    "colab_type": "code",
    "id": "dz8rrCgCDAqo"
   },
   "outputs": [],
   "source": [
    "def preprocess(text):\n",
    "    text = text.lower()\n",
    "\n",
    "    # Clean the text\n",
    "    text = re.sub(r'http\\S+','',text)\n",
    "\n",
    "    text = re.sub(r\"[^A-Za-z0-9^,!?.\\/'+]\", \" \", text)\n",
    "\n",
    "    text = re.sub(r\"\\+\", \" plus \", text)\n",
    "    \n",
    "    text = re.sub(\"\\d+\", \" \", text)\n",
    "\n",
    "    text = re.sub(r\",\", \" \", text)\n",
    "\n",
    "    text = re.sub(r\"\\.\", \" \", text)\n",
    "\n",
    "    text = re.sub(r\"!\", \" \", text)\n",
    "\n",
    "    text = re.sub(r\"\\?\", \" \", text)\n",
    "\n",
    "    text = re.sub(r\"'\", \" \", text)\n",
    "\n",
    "    text = re.sub(r\":\", \" : \", text)\n",
    "\n",
    "    text = re.sub(r\"\\s{2,}\", \" \", text)\n",
    "\n",
    "    \n",
    "    word_tokens = word_tokenize(text)\n",
    "\n",
    "    filtered = [w for w in word_tokens if not w in stop_words] \n",
    "\n",
    "    text = ' '.join(filtered)\n",
    "\n",
    "    return text\n",
    "\n",
    "data.text = data.text.apply(preprocess)"
   ]
  },
  {
   "cell_type": "code",
   "execution_count": 0,
   "metadata": {
    "ExecuteTime": {
     "end_time": "2020-01-08T23:31:32.233439Z",
     "start_time": "2020-01-08T23:31:32.206440Z"
    },
    "colab": {},
    "colab_type": "code",
    "id": "EdL7gLlIXbed"
   },
   "outputs": [],
   "source": [
    "X = []\n",
    "sentences = list(data[\"text\"])\n",
    "for sen in sentences:\n",
    "    X.append(sen)\n",
    "\n",
    "categories = [\" HarmVirtue\", \" HarmVice\",\" FairnessVirtue\",\n",
    "                 \" FairnessVice\", \" IngroupVirtue\",\n",
    "                 \" IngroupVice\", \" AuthorityVirtue\",\n",
    "                 \" AuthorityVice\", \" PurityVirtue\", \n",
    "                 \" PurityVice\", \" bias_count\", \"Offensive\"]\n",
    "\n",
    "y =data[categories]"
   ]
  },
  {
   "cell_type": "code",
   "execution_count": 8,
   "metadata": {
    "colab": {
     "base_uri": "https://localhost:8080/",
     "height": 176
    },
    "colab_type": "code",
    "id": "zJ00KqYT74NA",
    "outputId": "f31ab26f-9514-4bf5-dc76-7a5715b9024d"
   },
   "outputs": [
    {
     "data": {
      "text/plain": [
       "count    2857.000000\n",
       "mean      346.201610\n",
       "std       256.563555\n",
       "min        97.000000\n",
       "25%       186.000000\n",
       "50%       273.000000\n",
       "75%       422.000000\n",
       "max      2938.000000\n",
       "Name: text, dtype: float64"
      ]
     },
     "execution_count": 8,
     "metadata": {
      "tags": []
     },
     "output_type": "execute_result"
    }
   ],
   "source": [
    "data['text'].str.split(' ').apply(len).describe()"
   ]
  },
  {
   "cell_type": "code",
   "execution_count": 9,
   "metadata": {
    "colab": {
     "base_uri": "https://localhost:8080/",
     "height": 34
    },
    "colab_type": "code",
    "id": "XPbxeQ088HS4",
    "outputId": "5d231c57-bca3-47f4-a00d-90e3ecc966b7"
   },
   "outputs": [
    {
     "data": {
      "text/plain": [
       "41742"
      ]
     },
     "execution_count": 9,
     "metadata": {
      "tags": []
     },
     "output_type": "execute_result"
    }
   ],
   "source": [
    "from collections import Counter\n",
    "result = Counter(\" \".join(data['text'].values.tolist()).split(\" \")).keys()\n",
    "len(result)"
   ]
  },
  {
   "cell_type": "code",
   "execution_count": 0,
   "metadata": {
    "ExecuteTime": {
     "end_time": "2020-01-08T23:31:38.922524Z",
     "start_time": "2020-01-08T23:31:35.654035Z"
    },
    "colab": {},
    "colab_type": "code",
    "id": "eHY4g5wHXbfN"
   },
   "outputs": [],
   "source": [
    "X_train, X_test, y_train, y_test = train_test_split(X, y, test_size=0.20, random_state=420) \n",
    "\n",
    "tokenizer = Tokenizer(num_words=20000)\n",
    "tokenizer.fit_on_texts(X_train)\n",
    "\n",
    "X_train = tokenizer.texts_to_sequences(X_train)\n",
    "X_test = tokenizer.texts_to_sequences(X_test)\n",
    "\n",
    "vocab_size = len(tokenizer.word_index) + 1\n",
    "word_index = tokenizer.word_index\n",
    "\n",
    "maxlen = 422\n",
    "\n",
    "X_train = pad_sequences(X_train, padding='post', maxlen=maxlen)\n",
    "X_test = pad_sequences(X_test, padding='post', maxlen=maxlen)"
   ]
  },
  {
   "cell_type": "markdown",
   "metadata": {
    "colab_type": "text",
    "id": "eLh2Unzgbi4L"
   },
   "source": [
    "# Model Training and Evaluation"
   ]
  },
  {
   "cell_type": "code",
   "execution_count": 11,
   "metadata": {
    "colab": {
     "base_uri": "https://localhost:8080/",
     "height": 143
    },
    "colab_type": "code",
    "id": "f2QLK8ubopHy",
    "outputId": "09e1f47c-c5dd-4409-faf1-9fa4a42210b2"
   },
   "outputs": [
    {
     "name": "stdout",
     "output_type": "stream",
     "text": [
      "WARNING:tensorflow:From /tensorflow-1.15.2/python3.6/tensorflow_core/python/ops/resource_variable_ops.py:1630: calling BaseResourceVariable.__init__ (from tensorflow.python.ops.resource_variable_ops) with constraint is deprecated and will be removed in a future version.\n",
      "Instructions for updating:\n",
      "If using Keras pass *_constraint arguments to layers.\n",
      "WARNING:tensorflow:From /tensorflow-1.15.2/python3.6/tensorflow_core/python/ops/nn_impl.py:183: where (from tensorflow.python.ops.array_ops) is deprecated and will be removed in a future version.\n",
      "Instructions for updating:\n",
      "Use tf.where in 2.0, which has the same broadcast rule as np.where\n"
     ]
    }
   ],
   "source": [
    "deep_inputs = Input(shape=(maxlen,))\n",
    "embedding_layer = Embedding(vocab_size, 200)(deep_inputs)\n",
    "LSTM_Layer_1 = LSTM(1024, dropout =  0.5)(embedding_layer)\n",
    "dense_layer_1 = Dense(12, activation='sigmoid')(LSTM_Layer_1)\n",
    "model = Model(inputs=deep_inputs, outputs=dense_layer_1)\n",
    "\n",
    "model.compile(loss='binary_crossentropy', optimizer='adam', metrics=['acc'])"
   ]
  },
  {
   "cell_type": "code",
   "execution_count": 12,
   "metadata": {
    "ExecuteTime": {
     "end_time": "2020-01-08T23:32:25.308606Z",
     "start_time": "2020-01-08T23:32:25.283607Z"
    },
    "colab": {
     "base_uri": "https://localhost:8080/",
     "height": 318
    },
    "colab_type": "code",
    "id": "7ZWybWX8Xbgp",
    "outputId": "a6ae91a5-8080-4458-c625-d07d18bc6766",
    "scrolled": true
   },
   "outputs": [
    {
     "name": "stdout",
     "output_type": "stream",
     "text": [
      "Model: \"model_1\"\n",
      "_________________________________________________________________\n",
      "Layer (type)                 Output Shape              Param #   \n",
      "=================================================================\n",
      "input_1 (InputLayer)         (None, 422)               0         \n",
      "_________________________________________________________________\n",
      "embedding_1 (Embedding)      (None, 422, 200)          7606800   \n",
      "_________________________________________________________________\n",
      "lstm_1 (LSTM)                (None, 1024)              5017600   \n",
      "_________________________________________________________________\n",
      "dense_1 (Dense)              (None, 12)                12300     \n",
      "=================================================================\n",
      "Total params: 12,636,700\n",
      "Trainable params: 12,636,700\n",
      "Non-trainable params: 0\n",
      "_________________________________________________________________\n",
      "None\n"
     ]
    }
   ],
   "source": [
    "print(model.summary())"
   ]
  },
  {
   "cell_type": "code",
   "execution_count": 17,
   "metadata": {
    "ExecuteTime": {
     "start_time": "2020-01-08T23:32:43.788Z"
    },
    "colab": {
     "base_uri": "https://localhost:8080/",
     "height": 745
    },
    "colab_type": "code",
    "id": "aV5Gw0vmXbhE",
    "outputId": "d3581f0f-e79e-44e4-e897-374e4d5ff91c"
   },
   "outputs": [
    {
     "name": "stdout",
     "output_type": "stream",
     "text": [
      "Train on 1599 samples, validate on 686 samples\n",
      "Epoch 1/20\n",
      " - 36s - loss: 0.5160 - acc: 0.7452 - val_loss: 0.5202 - val_acc: 0.7417\n",
      "Epoch 2/20\n",
      " - 36s - loss: 0.5050 - acc: 0.7465 - val_loss: 0.5139 - val_acc: 0.7386\n",
      "Epoch 3/20\n",
      " - 36s - loss: 0.5068 - acc: 0.7414 - val_loss: 0.5204 - val_acc: 0.7410\n",
      "Epoch 4/20\n",
      " - 36s - loss: 0.5077 - acc: 0.7404 - val_loss: 0.5195 - val_acc: 0.7414\n",
      "Epoch 5/20\n",
      " - 36s - loss: 0.5090 - acc: 0.7387 - val_loss: 0.5185 - val_acc: 0.7437\n",
      "Epoch 6/20\n",
      " - 36s - loss: 0.5015 - acc: 0.7434 - val_loss: 0.5147 - val_acc: 0.7409\n",
      "Epoch 7/20\n",
      " - 36s - loss: 0.5008 - acc: 0.7402 - val_loss: 0.5299 - val_acc: 0.7400\n",
      "Epoch 8/20\n",
      " - 36s - loss: 0.5001 - acc: 0.7459 - val_loss: 0.5134 - val_acc: 0.7423\n",
      "Epoch 9/20\n",
      " - 36s - loss: 0.4950 - acc: 0.7460 - val_loss: 0.5121 - val_acc: 0.7363\n",
      "Epoch 10/20\n",
      " - 36s - loss: 0.4927 - acc: 0.7466 - val_loss: 0.5137 - val_acc: 0.7423\n",
      "Epoch 11/20\n",
      " - 36s - loss: 0.4919 - acc: 0.7469 - val_loss: 0.5124 - val_acc: 0.7345\n",
      "Epoch 12/20\n",
      " - 36s - loss: 0.4874 - acc: 0.7514 - val_loss: 0.5113 - val_acc: 0.7408\n",
      "Epoch 13/20\n",
      " - 36s - loss: 0.4864 - acc: 0.7518 - val_loss: 0.5113 - val_acc: 0.7410\n",
      "Epoch 14/20\n",
      " - 36s - loss: 0.4842 - acc: 0.7503 - val_loss: 0.5109 - val_acc: 0.7342\n",
      "Epoch 15/20\n",
      " - 36s - loss: 0.4809 - acc: 0.7509 - val_loss: 0.5152 - val_acc: 0.7386\n",
      "Epoch 16/20\n",
      " - 36s - loss: 0.4813 - acc: 0.7515 - val_loss: 0.5150 - val_acc: 0.7419\n",
      "Epoch 17/20\n",
      " - 36s - loss: 0.4789 - acc: 0.7547 - val_loss: 0.5239 - val_acc: 0.7346\n",
      "Epoch 18/20\n",
      " - 36s - loss: 0.4788 - acc: 0.7528 - val_loss: 0.5167 - val_acc: 0.7374\n",
      "Epoch 19/20\n",
      " - 36s - loss: 0.4768 - acc: 0.7521 - val_loss: 0.5152 - val_acc: 0.7403\n",
      "Epoch 20/20\n",
      " - 36s - loss: 0.4765 - acc: 0.7545 - val_loss: 0.5276 - val_acc: 0.7362\n"
     ]
    }
   ],
   "source": [
    "history = model.fit(X_train, y_train, batch_size=64, epochs=20, verbose=2, validation_split=0.3)"
   ]
  },
  {
   "cell_type": "code",
   "execution_count": 19,
   "metadata": {
    "colab": {
     "base_uri": "https://localhost:8080/",
     "height": 573
    },
    "colab_type": "code",
    "id": "dzcDASUTVJ2h",
    "outputId": "26e33b73-1943-4bc2-aec1-e8d94d3f6da9"
   },
   "outputs": [
    {
     "data": {
      "image/png": "[encoded data removed]",
      "text/plain": [
       "<Figure size 432x288 with 1 Axes>"
      ]
     },
     "metadata": {
      "needs_background": "light",
      "tags": []
     },
     "output_type": "display_data"
    },
    {
     "data": {
      "image/png": "[encoded data removed]",
      "text/plain": [
       "<Figure size 432x288 with 1 Axes>"
      ]
     },
     "metadata": {
      "needs_background": "light",
      "tags": []
     },
     "output_type": "display_data"
    }
   ],
   "source": [
    "plt.plot(history.history['acc'])\n",
    "plt.plot(history.history['val_acc'])\n",
    "plt.title('model accuracy')\n",
    "plt.ylabel('accuracy')\n",
    "plt.xlabel('epoch')\n",
    "plt.legend(['train', 'val'], loc='upper left')\n",
    "plt.show()\n",
    "\n",
    "plt.plot(history.history['loss'])\n",
    "plt.plot(history.history['val_loss'])\n",
    "plt.title('model loss')\n",
    "plt.ylabel('loss')\n",
    "plt.xlabel('epoch')\n",
    "plt.legend(['train', 'val'], loc='upper left')\n",
    "plt.show()"
   ]
  },
  {
   "cell_type": "code",
   "execution_count": 20,
   "metadata": {
    "colab": {
     "base_uri": "https://localhost:8080/",
     "height": 301
    },
    "colab_type": "code",
    "id": "7mie_55Vg6ky",
    "outputId": "6abf5880-b862-48d9-cb78-421b624346d8"
   },
   "outputs": [
    {
     "name": "stdout",
     "output_type": "stream",
     "text": [
      "572/572 [==============================] - 7s 13ms/step\n",
      "Overall Accuracy:  0.7341200709342957\n",
      "Accuracy Score per label:\n",
      "  HarmVirtue         0.54\n",
      " HarmVice           0.59\n",
      " FairnessVirtue     0.83\n",
      " FairnessVice       0.90\n",
      " IngroupVirtue      0.66\n",
      " IngroupVice        0.80\n",
      " AuthorityVirtue    0.72\n",
      " AuthorityVice      0.83\n",
      " PurityVirtue       0.90\n",
      " PurityVice         0.87\n",
      " bias_count         0.52\n",
      "Offensive           0.65\n",
      "dtype: float64\n"
     ]
    }
   ],
   "source": [
    "pred = model.predict(X_test) > 0.5\n",
    "\n",
    "print('Overall Accuracy: ', model.evaluate(X_test, y_test)[1])\n",
    "\n",
    "print('Accuracy Score per label:\\n', np.round((pred == y_test).mean(), 2))"
   ]
  },
  {
   "cell_type": "code",
   "execution_count": 0,
   "metadata": {
    "colab": {},
    "colab_type": "code",
    "id": "FdZjlUKm9-pu"
   },
   "outputs": [],
   "source": [
    "deep_inputs = Input(shape=(maxlen,))\n",
    "embedding_layer = Embedding(vocab_size, 200)(deep_inputs)\n",
    "LSTM_Layer_1 = LSTM(1024, dropout =  0.5)(embedding_layer)\n",
    "dense_layer_1 = Dense(12, activation='sigmoid')(LSTM_Layer_1)\n",
    "model = Model(inputs=deep_inputs, outputs=dense_layer_1)\n",
    "\n",
    "model.compile(loss='binary_crossentropy', optimizer='adam', metrics=['acc'])"
   ]
  },
  {
   "cell_type": "code",
   "execution_count": 22,
   "metadata": {
    "colab": {
     "base_uri": "https://localhost:8080/",
     "height": 301
    },
    "colab_type": "code",
    "id": "Tw9UWrAX9-nd",
    "outputId": "644256d4-3d82-4dba-b0e1-c950a07d7549"
   },
   "outputs": [
    {
     "name": "stdout",
     "output_type": "stream",
     "text": [
      "Epoch 1/8\n",
      " - 46s - loss: 0.5390 - acc: 0.7321\n",
      "Epoch 2/8\n",
      " - 46s - loss: 0.5101 - acc: 0.7435\n",
      "Epoch 3/8\n",
      " - 46s - loss: 0.5081 - acc: 0.7403\n",
      "Epoch 4/8\n",
      " - 46s - loss: 0.5014 - acc: 0.7447\n",
      "Epoch 5/8\n",
      " - 46s - loss: 0.4955 - acc: 0.7446\n",
      "Epoch 6/8\n",
      " - 46s - loss: 0.4900 - acc: 0.7480\n",
      "Epoch 7/8\n",
      " - 46s - loss: 0.4906 - acc: 0.7472\n",
      "Epoch 8/8\n",
      " - 46s - loss: 0.4883 - acc: 0.7445\n"
     ]
    }
   ],
   "source": [
    "history = model.fit(X_train, y_train, batch_size=64, epochs=8, verbose=2)"
   ]
  },
  {
   "cell_type": "code",
   "execution_count": 23,
   "metadata": {
    "colab": {
     "base_uri": "https://localhost:8080/",
     "height": 301
    },
    "colab_type": "code",
    "id": "C14e988oWnHj",
    "outputId": "ef95c7f0-8b40-4ee6-f42a-46ca0007ceb3"
   },
   "outputs": [
    {
     "name": "stdout",
     "output_type": "stream",
     "text": [
      "572/572 [==============================] - 7s 12ms/step\n",
      "Overall Accuracy:  0.738636314868927\n",
      "Accuracy Score per label:\n",
      "  HarmVirtue         0.53\n",
      " HarmVice           0.58\n",
      " FairnessVirtue     0.84\n",
      " FairnessVice       0.92\n",
      " IngroupVirtue      0.66\n",
      " IngroupVice        0.83\n",
      " AuthorityVirtue    0.72\n",
      " AuthorityVice      0.83\n",
      " PurityVirtue       0.90\n",
      " PurityVice         0.87\n",
      " bias_count         0.51\n",
      "Offensive           0.66\n",
      "dtype: float64\n"
     ]
    }
   ],
   "source": [
    "pred = model.predict(X_test) > 0.5\n",
    "\n",
    "print('Overall Accuracy: ', model.evaluate(X_test, y_test)[1])\n",
    "\n",
    "print('Accuracy Score per label:\\n', np.round((pred == y_test).mean(), 2))"
   ]
  },
  {
   "cell_type": "markdown",
   "metadata": {
    "colab_type": "text",
    "id": "U0Z5c81Ub3ke"
   },
   "source": [
    "# Saving the Trained Network and Tokenizer for Later Use in Recommender System"
   ]
  },
  {
   "cell_type": "code",
   "execution_count": 0,
   "metadata": {
    "colab": {},
    "colab_type": "code",
    "id": "8Hd5GA09wRvZ"
   },
   "outputs": [],
   "source": [
    "#model.save_weights('deep.model')"
   ]
  },
  {
   "cell_type": "code",
   "execution_count": 0,
   "metadata": {
    "colab": {},
    "colab_type": "code",
    "id": "sFK_RfiqhfbO"
   },
   "outputs": [],
   "source": [
    "import pickle"
   ]
  },
  {
   "cell_type": "code",
   "execution_count": 0,
   "metadata": {
    "colab": {},
    "colab_type": "code",
    "id": "knvi-XeqfnqI"
   },
   "outputs": [],
   "source": [
    "#pickle.dump(tokenizer, open('deep.tokenizer', 'wb'))"
   ]
  },
  {
   "cell_type": "code",
   "execution_count": 0,
   "metadata": {
    "colab": {},
    "colab_type": "code",
    "id": "c4I44HBxfzSf"
   },
   "outputs": [],
   "source": [
    "t = pickle.load(open('deep.tokenizer', 'rb'))"
   ]
  },
  {
   "cell_type": "code",
   "execution_count": 28,
   "metadata": {
    "colab": {
     "base_uri": "https://localhost:8080/",
     "height": 34
    },
    "colab_type": "code",
    "id": "TcXw-ANlf_W0",
    "outputId": "f53635c8-ad57-4790-85b5-c9b1a3f9e00c"
   },
   "outputs": [
    {
     "data": {
      "text/plain": [
       "[[13759, 2713, 3884, 515, 1126]]"
      ]
     },
     "execution_count": 28,
     "metadata": {
      "tags": []
     },
     "output_type": "execute_result"
    }
   ],
   "source": [
    "t.texts_to_sequences(['I am a boy and I love girls'])"
   ]
  },
  {
   "cell_type": "code",
   "execution_count": 29,
   "metadata": {
    "colab": {
     "base_uri": "https://localhost:8080/",
     "height": 34
    },
    "colab_type": "code",
    "id": "s3Pjkwv6gIbz",
    "outputId": "668beac0-79e9-4347-ad70-c7c9d35da51c"
   },
   "outputs": [
    {
     "data": {
      "text/plain": [
       "[[13759, 2713, 3884, 515, 1126]]"
      ]
     },
     "execution_count": 29,
     "metadata": {
      "tags": []
     },
     "output_type": "execute_result"
    }
   ],
   "source": [
    "tokenizer.texts_to_sequences(['I am a boy and I love girls'])"
   ]
  },
  {
   "cell_type": "code",
   "execution_count": 0,
   "metadata": {
    "colab": {},
    "colab_type": "code",
    "id": "SZxwrtYWhQaR"
   },
   "outputs": [],
   "source": [
    "deep_inputs = Input(shape=(maxlen,))\n",
    "embedding_layer = Embedding(vocab_size, 200)(deep_inputs)\n",
    "LSTM_Layer_1 = LSTM(1024, dropout =  0.5)(embedding_layer)\n",
    "dense_layer_1 = Dense(12, activation='sigmoid')(LSTM_Layer_1)\n",
    "model_loaded = Model(inputs=deep_inputs, outputs=dense_layer_1)\n",
    "\n",
    "model_loaded.compile(loss='binary_crossentropy', optimizer='adam', metrics=['acc'])\n",
    "\n"
   ]
  },
  {
   "cell_type": "code",
   "execution_count": 0,
   "metadata": {
    "colab": {},
    "colab_type": "code",
    "id": "jU2yRxZagM5f"
   },
   "outputs": [],
   "source": [
    "model_loaded.load_weights('deep.model')"
   ]
  },
  {
   "cell_type": "code",
   "execution_count": 32,
   "metadata": {
    "colab": {
     "base_uri": "https://localhost:8080/",
     "height": 52
    },
    "colab_type": "code",
    "id": "RoVzHD2ogZXQ",
    "outputId": "44816d17-a01c-458b-a55b-a50082331efc"
   },
   "outputs": [
    {
     "name": "stdout",
     "output_type": "stream",
     "text": [
      "572/572 [==============================] - 8s 14ms/step\n"
     ]
    },
    {
     "data": {
      "text/plain": [
       "[0.5149457867328937, 0.738490641117096]"
      ]
     },
     "execution_count": 32,
     "metadata": {
      "tags": []
     },
     "output_type": "execute_result"
    }
   ],
   "source": [
    "model_loaded.evaluate(X_test,y_test)"
   ]
  },
  {
   "cell_type": "code",
   "execution_count": 33,
   "metadata": {
    "colab": {
     "base_uri": "https://localhost:8080/",
     "height": 52
    },
    "colab_type": "code",
    "id": "uPMDUAVUhdLx",
    "outputId": "15e5aa19-2f61-4767-b5d3-aa8e812150cf"
   },
   "outputs": [
    {
     "name": "stdout",
     "output_type": "stream",
     "text": [
      "572/572 [==============================] - 7s 13ms/step\n"
     ]
    },
    {
     "data": {
      "text/plain": [
       "[0.5108070748669284, 0.738636314868927]"
      ]
     },
     "execution_count": 33,
     "metadata": {
      "tags": []
     },
     "output_type": "execute_result"
    }
   ],
   "source": [
    "model.evaluate(X_test,y_test)"
   ]
  },
  {
   "cell_type": "code",
   "execution_count": 0,
   "metadata": {
    "colab": {},
    "colab_type": "code",
    "id": "l_bwbSnV7P7J"
   },
   "outputs": [],
   "source": []
  }
 ],
 "metadata": {
  "accelerator": "GPU",
  "colab": {
   "collapsed_sections": [],
   "name": "Moral Foundations - Deep Neural Network Training File",
   "provenance": []
  },
  "kernelspec": {
   "display_name": "Python 3",
   "language": "python",
   "name": "python3"
  },
  "language_info": {
   "codemirror_mode": {
    "name": "ipython",
    "version": 3
   },
   "file_extension": ".py",
   "mimetype": "text/x-python",
   "name": "python",
   "nbconvert_exporter": "python",
   "pygments_lexer": "ipython3",
   "version": "3.8.3"
  },
  "toc": {
   "base_numbering": 1,
   "nav_menu": {},
   "number_sections": true,
   "sideBar": true,
   "skip_h1_title": false,
   "title_cell": "Table of Contents",
   "title_sidebar": "Contents",
   "toc_cell": false,
   "toc_position": {},
   "toc_section_display": true,
   "toc_window_display": false
  },
  "varInspector": {
   "cols": {
    "lenName": 16,
    "lenType": 16,
    "lenVar": 40
   },
   "kernels_config": {
    "python": {
     "delete_cmd_postfix": "",
     "delete_cmd_prefix": "del ",
     "library": "var_list.py",
     "varRefreshCmd": "print(var_dic_list())"
    },
    "r": {
     "delete_cmd_postfix": ") ",
     "delete_cmd_prefix": "rm(",
     "library": "var_list.r",
     "varRefreshCmd": "cat(var_dic_list()) "
    }
   },
   "types_to_exclude": [
    "module",
    "function",
    "builtin_function_or_method",
    "instance",
    "_Feature"
   ],
   "window_display": false
  }
 },
 "nbformat": 4,
 "nbformat_minor": 1
}
